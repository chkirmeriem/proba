{
 "cells": [
  {
   "cell_type": "markdown",
   "metadata": {},
   "source": [
    "# Simulation du jeux de LIDO simplifié"
   ]
  },
  {
   "cell_type": "markdown",
   "metadata": {},
   "source": [
    "## Principe\n",
    "On considére un jeux de Lido simple:\n",
    "on dispose d'un un seul pion.\n",
    "\n",
    "- Etape 0 :\n",
    "Le pion doit sort de sa prison lorsqu'on obtient un 6.\n",
    "\n",
    "- Etape 1 :\n",
    "Le pion doit atteindre exactement une position cible situé à N pas de distance de sa prison \n",
    "\n",
    "Soit $X_n$ la variable aléatoire qui represente le nombre de coup nécéssaire pour atteindre la positions cible.\n",
    "\n",
    "**Objectif 1** : Simuler le jeux \n",
    "\n",
    "**Objectif 2** : Calculer une estimation de l'éspérance mathématique de $X_n$ en utilisant `python`\n",
    "\n",
    "**Objéctif 3** : Observer la variation de $\\mathbb{E}(X_n)$ en fonction de $n$\n",
    "\n",
    "<img src=\"LIDO.png\">\n"
   ]
  },
  {
   "cell_type": "code",
   "execution_count": 1,
   "metadata": {},
   "outputs": [],
   "source": [
    "import numpy as np #combien de coups necessaires pour bien arriver"
   ]
  },
  {
   "cell_type": "code",
   "execution_count": 2,
   "metadata": {},
   "outputs": [],
   "source": [
    "### Simulation du lancé de dé"
   ]
  },
  {
   "cell_type": "code",
   "execution_count": 3,
   "metadata": {},
   "outputs": [],
   "source": [
    "def Roll():\n",
    "    return int(np.random.choice (range(1,7),1))"
   ]
  },
  {
   "cell_type": "code",
   "execution_count": 4,
   "metadata": {},
   "outputs": [
    {
     "data": {
      "text/plain": [
       "5"
      ]
     },
     "execution_count": 4,
     "metadata": {},
     "output_type": "execute_result"
    }
   ],
   "source": [
    "Roll()"
   ]
  },
  {
   "cell_type": "markdown",
   "metadata": {},
   "source": [
    "### Compléter le code et commenter"
   ]
  },
  {
   "cell_type": "code",
   "execution_count": 9,
   "metadata": {},
   "outputs": [
    {
     "name": "stdout",
     "output_type": "stream",
     "text": [
      "1 2 0\n",
      "temp= 2 |NA= 2\n",
      "temp= 4 |NA= 3\n",
      "temp= 4 |NA= 4\n",
      "temp= 3 |NA= 5\n",
      "temp= 4 |NA= 6\n",
      "temp= 1 |NA= 7\n",
      "temp= 5 |NA= 8\n",
      "temp= 6 |NA= 9\n",
      "temp= 5 |NA= 10 A= 1\n",
      "temp= 5 |NA= 10 A= 6\n",
      "temp= 5 |NA= 11 A= 6\n",
      "temp= 5 |NA= 11 A= 6\n",
      "temp= 4 |NA= 12 A= 6\n"
     ]
    }
   ],
   "source": [
    "NA,A,S=0,0,10\n",
    "temp=Roll()\n",
    "NA+=1\n",
    "print(NA,temp,A) #move the dice from his initial position \n",
    "while temp!=6: #we move out of the while loop when we get the value 6 of the dice\n",
    "    NA=NA+1\n",
    "    temp=Roll()\n",
    "    print(\"temp=\",temp,\"|NA=\",NA)\n",
    "A=1\n",
    "while A<S:\n",
    "    temp=Roll()\n",
    "    NA=NA+1\n",
    "    print(\"temp=\",temp,\"|NA=\",NA,\"A=\",A)\n",
    "    if A+temp<S:\n",
    "        A=A+temp\n",
    "        print(\"temp=\",temp,\"|NA=\",NA,\"A=\",A)\n",
    "    elif A+temp==S:\n",
    "        A=S\n",
    "    else:\n",
    "        print(\"temp=\",temp,\"|NA=\",NA,\"A=\",A)\n",
    "        continue"
   ]
  },
  {
   "cell_type": "markdown",
   "metadata": {},
   "source": [
    "### Simulation\n",
    "Ecrire une foction `sim` qui simule le jeux et qui prend comme variable le nombre de pas $n$ nécessazire pour atteindre la cible"
   ]
  },
  {
   "cell_type": "code",
   "execution_count": 17,
   "metadata": {},
   "outputs": [],
   "source": [
    "def sim(S):\n",
    "    A=0\n",
    "    NA=0\n",
    "    temp=Roll()\n",
    "    NA=NA+1\n",
    "    while (temp !=6) :\n",
    "        temp=Roll()\n",
    "        NA+=1\n",
    "    A=1\n",
    "    while (A<S) :\n",
    "        temp=Roll()\n",
    "        if((temp+A<S)):\n",
    "            NA+=1\n",
    "            A+=temp\n",
    "        elif temp+A>S :\n",
    "            NA+=1\n",
    "        else:\n",
    "            A=S\n",
    "            NA+=1\n",
    "    return NA\n",
    "    #this function helped us to determine the number of tries we need so that we can go out of the prison  with an exact number of steps to reach our destination "
   ]
  },
  {
   "cell_type": "code",
   "execution_count": 33,
   "metadata": {},
   "outputs": [
    {
     "data": {
      "text/plain": [
       "23"
      ]
     },
     "execution_count": 33,
     "metadata": {},
     "output_type": "execute_result"
    }
   ],
   "source": [
    "sim(20)"
   ]
  },
  {
   "cell_type": "code",
   "execution_count": 34,
   "metadata": {},
   "outputs": [
    {
     "name": "stdout",
     "output_type": "stream",
     "text": [
      "estimation de la moyenne de X_30=18.9912\n"
     ]
    }
   ],
   "source": [
    "# *10000 S=30\n",
    "L=[sim(30) for i in range (10000)]\n",
    "Moy=sum(L)/10000\n",
    "print('estimation de la moyenne de X_30={}'.format(Moy))"
   ]
  },
  {
   "cell_type": "markdown",
   "metadata": {},
   "source": [
    "### Simulation de $10^5$  scénario "
   ]
  },
  {
   "cell_type": "code",
   "execution_count": 35,
   "metadata": {},
   "outputs": [],
   "source": [
    "X=list(range(10,20))#X is an array of the number of steps,10 is its dimension \n",
    "Y=[sum([sim(u) for i in range (10000)])/10000 for u in X] #Y is an array of dimension 10"
   ]
  },
  {
   "cell_type": "code",
   "execution_count": 36,
   "metadata": {},
   "outputs": [],
   "source": [
    "import matplotlib.pyplot as plt "
   ]
  },
  {
   "cell_type": "code",
   "execution_count": 37,
   "metadata": {},
   "outputs": [
    {
     "data": {
      "image/png": "[encoded data removed]",
      "text/plain": [
       "<Figure size 432x288 with 1 Axes>"
      ]
     },
     "metadata": {
      "needs_background": "light"
     },
     "output_type": "display_data"
    }
   ],
   "source": [
    "plt.plot(X,Y,'*r')\n",
    "plt.show()"
   ]
  },
  {
   "cell_type": "code",
   "execution_count": 38,
   "metadata": {},
   "outputs": [],
   "source": [
    "from scipy import stats\n",
    "import numpy as np\n",
    "slope,intercept,r_value,p_value,std_err = stats.linregress(X,Y)"
   ]
  },
  {
   "cell_type": "code",
   "execution_count": 39,
   "metadata": {},
   "outputs": [
    {
     "data": {
      "text/plain": [
       "0.2782563636363635"
      ]
     },
     "execution_count": 39,
     "metadata": {},
     "output_type": "execute_result"
    }
   ],
   "source": [
    "slope"
   ]
  },
  {
   "cell_type": "code",
   "execution_count": 40,
   "metadata": {},
   "outputs": [
    {
     "data": {
      "text/plain": [
       "10.575712727272728"
      ]
     },
     "execution_count": 40,
     "metadata": {},
     "output_type": "execute_result"
    }
   ],
   "source": [
    "intercept"
   ]
  },
  {
   "cell_type": "code",
   "execution_count": 41,
   "metadata": {},
   "outputs": [],
   "source": [
    "yy=[slope*u+intercept for u in X]"
   ]
  },
  {
   "cell_type": "code",
   "execution_count": 42,
   "metadata": {},
   "outputs": [
    {
     "data": {
      "text/plain": [
       "[<matplotlib.lines.Line2D at 0x23d79263910>,\n",
       " <matplotlib.lines.Line2D at 0x23d79263940>]"
      ]
     },
     "execution_count": 42,
     "metadata": {},
     "output_type": "execute_result"
    },
    {
     "data": {
      "image/png": "[encoded data removed]",
      "text/plain": [
       "<Figure size 432x288 with 1 Axes>"
      ]
     },
     "metadata": {
      "needs_background": "light"
     },
     "output_type": "display_data"
    }
   ],
   "source": [
    "plt.plot(X,Y,'*r',X,yy,'-b')"
   ]
  },
  {
   "cell_type": "code",
   "execution_count": 32,
   "metadata": {},
   "outputs": [],
   "source": [
    "#droite de la forme y=ax+b , un jeu coder mathemat la simulation pour avoir l'estimation de la moyenne pour essayer de gdegager une formule mathematique pour avoir une relation entre pour n'importe quelle valeur de s on peut savoir le nombre moyen des coups relation entre n,slope and intercept "
   ]
  }
 ],
 "metadata": {
  "kernelspec": {
   "display_name": "Python 3",
   "language": "python",
   "name": "python3"
  },
  "language_info": {
   "codemirror_mode": {
    "name": "ipython",
    "version": 3
   },
   "file_extension": ".py",
   "mimetype": "text/x-python",
   "name": "python",
   "nbconvert_exporter": "python",
   "pygments_lexer": "ipython3",
   "version": "3.8.8"
  }
 },
 "nbformat": 4,
 "nbformat_minor": 4
}
