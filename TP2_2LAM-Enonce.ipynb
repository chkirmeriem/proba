{
 "cells": [
  {
   "cell_type": "markdown",
   "metadata": {},
   "source": [
    "# Simulation du jeux de LIDO simplifié"
   ]
  },
  {
   "cell_type": "markdown",
   "metadata": {},
   "source": [
    "## Principe\n",
    "On considére un jeux de Lido simple:\n",
    "on dispose d'un un seul pion.\n",
    "\n",
    "- Etape 0 :\n",
    "Le pion doit sort de sa prison lorsqu'on obtient un 6.\n",
    "\n",
    "- Etape 1 :\n",
    "Le pion doit atteindre exactement une position cible situé à N pas de distance de sa prison \n",
    "\n",
    "Soit $X_n$ la variable aléatoire qui represente le nombre de coup nécéssaire pour atteindre la positions cible.\n",
    "\n",
    "**Objectif 1** : Simuler le jeux \n",
    "\n",
    "**Objectif 2** : Calculer une estimation de l'éspérance mathématique de $X_n$ en utilisant `python`\n",
    "\n",
    "**Objéctif 3** : Observer la variation de $\\mathbb{E}(X_n)$ en fonction de $n$\n",
    "\n",
    "<img src=\"LIDO.png\">\n"
   ]
  },
  {
   "cell_type": "code",
   "execution_count": 51,
   "metadata": {},
   "outputs": [],
   "source": [
    "import numpy as np #combien de coups necessaires pour bien arriver"
   ]
  },
  {
   "cell_type": "code",
   "execution_count": 52,
   "metadata": {},
   "outputs": [],
   "source": [
    "### Simulation du lancé de dé"
   ]
  },
  {
   "cell_type": "code",
   "execution_count": 53,
   "metadata": {},
   "outputs": [],
   "source": [
    "def Roll():\n",
    "    return int(np.random.choice (range(1,7),1))"
   ]
  },
  {
   "cell_type": "code",
   "execution_count": 54,
   "metadata": {},
   "outputs": [
    {
     "data": {
      "text/plain": [
       "4"
      ]
     },
     "execution_count": 54,
     "metadata": {},
     "output_type": "execute_result"
    }
   ],
   "source": [
    "Roll()"
   ]
  },
  {
   "cell_type": "markdown",
   "metadata": {},
   "source": [
    "### Compléter le code et commenter"
   ]
  },
  {
   "cell_type": "code",
   "execution_count": 55,
   "metadata": {},
   "outputs": [
    {
     "name": "stdout",
     "output_type": "stream",
     "text": [
      "1 1 0\n",
      "temp= 1 |NA= 2\n",
      "temp= 5 |NA= 3\n",
      "temp= 1 |NA= 4\n",
      "temp= 2 |NA= 5\n",
      "temp= 5 |NA= 6\n",
      "temp= 3 |NA= 7\n",
      "temp= 2 |NA= 8\n",
      "temp= 5 |NA= 9\n",
      "temp= 5 |NA= 10\n",
      "temp= 2 |NA= 11\n",
      "temp= 5 |NA= 12\n",
      "temp= 2 |NA= 13\n",
      "temp= 6 |NA= 14\n",
      "temp= 5 |NA= 15 A= 1\n",
      "temp= 5 |NA= 15 A= 6\n",
      "temp= 1 |NA= 16 A= 6\n",
      "temp= 1 |NA= 16 A= 7\n",
      "temp= 2 |NA= 17 A= 7\n",
      "temp= 2 |NA= 17 A= 9\n",
      "temp= 4 |NA= 18 A= 9\n",
      "temp= 4 |NA= 18 A= 9\n",
      "temp= 3 |NA= 19 A= 9\n",
      "temp= 3 |NA= 19 A= 9\n",
      "temp= 6 |NA= 20 A= 9\n",
      "temp= 6 |NA= 20 A= 9\n",
      "temp= 1 |NA= 21 A= 9\n"
     ]
    }
   ],
   "source": [
    "NA,A,S=0,0,10\n",
    "temp=Roll()\n",
    "NA+=1\n",
    "print(NA,temp,A) \n",
    "while temp!=6: \n",
    "    NA=NA+1\n",
    "    temp=Roll()\n",
    "    print(\"temp=\",temp,\"|NA=\",NA)\n",
    "A=1\n",
    "while A<S:\n",
    "    temp=Roll()\n",
    "    NA=NA+1\n",
    "    print(\"temp=\",temp,\"|NA=\",NA,\"A=\",A)\n",
    "    if A+temp<S:\n",
    "        A=A+temp\n",
    "        print(\"temp=\",temp,\"|NA=\",NA,\"A=\",A)\n",
    "    elif A+temp==S:\n",
    "        A=S\n",
    "    else:\n",
    "        print(\"temp=\",temp,\"|NA=\",NA,\"A=\",A)\n",
    "        continue"
   ]
  },
  {
   "cell_type": "markdown",
   "metadata": {},
   "source": [
    "# <font color='red'>Comments</font> :\n",
    "<ul>\n",
    "<li>At first we have moved the dice from its initial position to reach the destination </li>\n",
    "<li>We get out of the while loop when we get the value 6 of the dice</li>\n",
    "</ul>"
   ]
  },
  {
   "cell_type": "markdown",
   "metadata": {},
   "source": [
    "### Simulation\n",
    "Ecrire une foction `sim` qui simule le jeux et qui prend comme variable le nombre de pas $n$ nécessazire pour atteindre la cible"
   ]
  },
  {
   "cell_type": "code",
   "execution_count": 61,
   "metadata": {},
   "outputs": [],
   "source": [
    "def sim(S):\n",
    "    A=0\n",
    "    NA=0\n",
    "    temp=Roll()\n",
    "    NA=NA+1\n",
    "    while (temp !=6) :\n",
    "        temp=Roll()\n",
    "        NA+=1\n",
    "    A=1\n",
    "    while (A<S) :\n",
    "        temp=Roll()\n",
    "        if((temp+A<S)):\n",
    "            NA+=1\n",
    "            A+=temp\n",
    "        elif temp+A>S :\n",
    "            NA+=1\n",
    "        else:\n",
    "            A=S\n",
    "            NA+=1\n",
    "    return NA"
   ]
  },
  {
   "cell_type": "markdown",
   "metadata": {},
   "source": [
    "# Comments : \n",
    "<ul>\n",
    "<li>The function sim() helped us to determine the number of tries needed to move out of the prison and reach the distination with a certain number of steps S </li>\n",
    "</ul>"
   ]
  },
  {
   "cell_type": "code",
   "execution_count": 33,
   "metadata": {},
   "outputs": [
    {
     "data": {
      "text/plain": [
       "23"
      ]
     },
     "execution_count": 33,
     "metadata": {},
     "output_type": "execute_result"
    }
   ],
   "source": [
    "sim(20)"
   ]
  },
  {
   "cell_type": "code",
   "execution_count": 72,
   "metadata": {},
   "outputs": [
    {
     "name": "stdout",
     "output_type": "stream",
     "text": [
      "estimation de la moyenne de X_30=19.0388\n"
     ]
    }
   ],
   "source": [
    "L=[sim(30) for i in range (10000)]\n",
    "Moy=sum(L)/10000\n",
    "print('estimation de la moyenne de X_30={}'.format(Moy))"
   ]
  },
  {
   "cell_type": "markdown",
   "metadata": {},
   "source": [
    "# <font color='blue'>Comments</font> :\n",
    "<ul>\n",
    "    <li> we have repeated this function 10000 times , with S=30 this time . </li>"
   ]
  },
  {
   "cell_type": "markdown",
   "metadata": {},
   "source": [
    "### Simulation de $10^5$  scénario "
   ]
  },
  {
   "cell_type": "code",
   "execution_count": 64,
   "metadata": {},
   "outputs": [],
   "source": [
    "X=list(range(10,20))\n",
    "Y=[sum([sim(u) for i in range (10000)])/10000 for u in X] "
   ]
  },
  {
   "cell_type": "markdown",
   "metadata": {},
   "source": [
    "# <font color='purple'>Comments</font> :\n",
    "<ul> X  is an array that includes the number of steps with a dimension equals 10 </ul>\n",
    "<ul> Y  is an array with a dimension equals 10 too it depends of X </ul>"
   ]
  },
  {
   "cell_type": "code",
   "execution_count": 65,
   "metadata": {},
   "outputs": [],
   "source": [
    "import matplotlib.pyplot as plt "
   ]
  },
  {
   "cell_type": "code",
   "execution_count": 66,
   "metadata": {},
   "outputs": [
    {
     "data": {
      "image/png": "[encoded data removed]",
      "text/plain": [
       "<Figure size 432x288 with 1 Axes>"
      ]
     },
     "metadata": {
      "needs_background": "light"
     },
     "output_type": "display_data"
    }
   ],
   "source": [
    "plt.plot(X,Y,'*r')\n",
    "plt.show()"
   ]
  },
  {
   "cell_type": "code",
   "execution_count": 67,
   "metadata": {},
   "outputs": [],
   "source": [
    "from scipy import stats\n",
    "import numpy as np\n",
    "slope,intercept,r_value,p_value,std_err = stats.linregress(X,Y)"
   ]
  },
  {
   "cell_type": "markdown",
   "metadata": {},
   "source": [
    "# <font color='red'>Comments</font> :\n",
    "<ul>\n",
    "    <li> Ici  on a Calculé une régression linéaire des moindres carrés pour deux mesures </li>\n",
    "    </ul>"
   ]
  },
  {
   "cell_type": "code",
   "execution_count": 73,
   "metadata": {},
   "outputs": [
    {
     "data": {
      "text/plain": [
       "0.29886181818181823"
      ]
     },
     "execution_count": 73,
     "metadata": {},
     "output_type": "execute_result"
    }
   ],
   "source": [
    "slope"
   ]
  },
  {
   "cell_type": "code",
   "execution_count": 69,
   "metadata": {},
   "outputs": [
    {
     "data": {
      "text/plain": [
       "10.333263636363636"
      ]
     },
     "execution_count": 69,
     "metadata": {},
     "output_type": "execute_result"
    }
   ],
   "source": [
    "intercept"
   ]
  },
  {
   "cell_type": "code",
   "execution_count": 70,
   "metadata": {},
   "outputs": [],
   "source": [
    "yy=[slope*u+intercept for u in X]"
   ]
  },
  {
   "cell_type": "code",
   "execution_count": 71,
   "metadata": {},
   "outputs": [
    {
     "data": {
      "text/plain": [
       "[<matplotlib.lines.Line2D at 0x23d79323430>,\n",
       " <matplotlib.lines.Line2D at 0x23d79323460>]"
      ]
     },
     "execution_count": 71,
     "metadata": {},
     "output_type": "execute_result"
    },
    {
     "data": {
      "image/png": "[encoded data removed]",
      "text/plain": [
       "<Figure size 432x288 with 1 Axes>"
      ]
     },
     "metadata": {
      "needs_background": "light"
     },
     "output_type": "display_data"
    }
   ],
   "source": [
    "plt.plot(X,Y,'*r',X,yy,'-b')"
   ]
  },
  {
   "cell_type": "markdown",
   "metadata": {},
   "source": [
    "# <font color='red'>Comments</font> :\n",
    "1. Il s'agit d'une droite de la forme y=ax+b\n",
    "2. on a fait une stimulation pour avoir l'estimation de la moyenne et dégager une formule mathématique\n",
    "3. on a remarqué une relation entre n,slope et intercept\n",
    "4. on a remarqué que pour n'importe quelle valeur de S on peut savoir le nombre moyen des coups "
   ]
  }
 ],
 "metadata": {
  "kernelspec": {
   "display_name": "Python 3",
   "language": "python",
   "name": "python3"
  },
  "language_info": {
   "codemirror_mode": {
    "name": "ipython",
    "version": 3
   },
   "file_extension": ".py",
   "mimetype": "text/x-python",
   "name": "python",
   "nbconvert_exporter": "python",
   "pygments_lexer": "ipython3",
   "version": "3.8.8"
  }
 },
 "nbformat": 4,
 "nbformat_minor": 4
}
